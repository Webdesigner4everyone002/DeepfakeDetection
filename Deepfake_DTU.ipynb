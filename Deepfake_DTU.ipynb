{
  "nbformat": 4,
  "nbformat_minor": 0,
  "metadata": {
    "colab": {
      "provenance": [],
      "gpuType": "T4"
    },
    "kernelspec": {
      "name": "python3",
      "display_name": "Python 3"
    },
    "language_info": {
      "name": "python"
    },
    "accelerator": "GPU"
  },
  "cells": [
    {
      "cell_type": "code",
      "execution_count": 5,
      "metadata": {
        "id": "_IXeNHL4sZO0"
      },
      "outputs": [],
      "source": [
        "import cv2\n",
        "import os\n",
        "\n",
        "def extract_frames_from_video(video_path, max_frames=10, resize_shape=(128, 128)):\n",
        "    import cv2\n",
        "    frames = []\n",
        "    cap = cv2.VideoCapture(video_path)\n",
        "    count = 0\n",
        "    while cap.isOpened() and count < max_frames:\n",
        "        ret, frame = cap.read()\n",
        "        if not ret:\n",
        "            break\n",
        "        frame = cv2.resize(frame, resize_shape)\n",
        "        frame = frame / 255.0  # normalize\n",
        "        frames.append(frame)\n",
        "        count += 1\n",
        "    cap.release()\n",
        "    return frames\n"
      ]
    },
    {
      "cell_type": "code",
      "source": [
        "X, y = [], []\n",
        "\n",
        "base_path = \"/content/drive/MyDrive/deepfake_dataset/train\"\n",
        "for label, folder in enumerate([\"real\", \"fake\"]):\n",
        "    folder_path = os.path.join(base_path, folder)\n",
        "    if not os.path.exists(folder_path):\n",
        "        print(f\"Folder not found: {folder_path}\")\n",
        "        continue\n",
        "    print(f\"Loading videos from {folder_path}\")\n",
        "    for file in os.listdir(folder_path):\n",
        "        if not file.lower().endswith((\".mp4\", \".avi\", \".mov\")):\n",
        "            continue\n",
        "\n",
        "        video_path = os.path.join(folder_path, file)\n",
        "        frames = extract_frames_from_video(video_path)\n",
        "        if len(frames) == 0:\n",
        "            print(f\"No frames extracted from {video_path}\")\n",
        "            continue\n",
        "        X.extend(frames)  # Add all frames from this video\n",
        "        y.extend([label] * len(frames))  # Same label for all frames"
      ],
      "metadata": {
        "colab": {
          "base_uri": "https://localhost:8080/"
        },
        "id": "drA8UgL5sdA8",
        "outputId": "f3b8d599-d60d-4f67-926f-5156f0d512b3"
      },
      "execution_count": 7,
      "outputs": [
        {
          "output_type": "stream",
          "name": "stdout",
          "text": [
            "Loading videos from /content/drive/MyDrive/deepfake_dataset/train/real\n",
            "Loading videos from /content/drive/MyDrive/deepfake_dataset/train/fake\n"
          ]
        }
      ]
    },
    {
      "cell_type": "code",
      "source": [
        "import numpy as np\n",
        "\n",
        "X = np.array(X).astype('float32') / 255.0\n",
        "y = np.array(y).astype('float32')\n",
        "\n",
        "print(\"Total frames:\", X.shape[0])\n",
        "print(\"Shape of each frame:\", X.shape[1:])\n",
        "print(\"Labels shape:\", y.shape)\n"
      ],
      "metadata": {
        "colab": {
          "base_uri": "https://localhost:8080/"
        },
        "id": "jigI_FyEsdG3",
        "outputId": "7b9bfaef-a60a-41b0-caf9-636d76d16cff"
      },
      "execution_count": 8,
      "outputs": [
        {
          "output_type": "stream",
          "name": "stdout",
          "text": [
            "Total frames: 3600\n",
            "Shape of each frame: (128, 128, 3)\n",
            "Labels shape: (3600,)\n"
          ]
        }
      ]
    },
    {
      "cell_type": "code",
      "source": [
        "from sklearn.model_selection import train_test_split\n",
        "\n",
        "X_train, X_val, y_train, y_val = train_test_split(\n",
        "    X, y, test_size=0.2, random_state=42, stratify=y\n",
        ")\n"
      ],
      "metadata": {
        "id": "dyGy-9apsdIK"
      },
      "execution_count": 9,
      "outputs": []
    },
    {
      "cell_type": "code",
      "source": [
        "from tensorflow.keras.models import Sequential\n",
        "from tensorflow.keras.layers import Conv2D, MaxPooling2D, Flatten, Dense, Dropout\n",
        "from tensorflow.keras.optimizers import Adam\n",
        "\n",
        "IMG_SIZE = 128\n",
        "\n",
        "model = Sequential([\n",
        "    Conv2D(32, (3, 3), activation='relu', input_shape=(IMG_SIZE, IMG_SIZE, 3)),\n",
        "    MaxPooling2D(2, 2),\n",
        "\n",
        "    Conv2D(64, (3, 3), activation='relu'),\n",
        "    MaxPooling2D(2, 2),\n",
        "\n",
        "    Flatten(),\n",
        "    Dense(128, activation='relu'),\n",
        "    Dropout(0.5),\n",
        "    Dense(1, activation='sigmoid')\n",
        "])\n",
        "\n",
        "model.compile(optimizer=Adam(0.0001), loss='binary_crossentropy', metrics=['accuracy'])\n",
        "model.summary()\n",
        "\n",
        "history = model.fit(\n",
        "    X_train, y_train,\n",
        "    epochs=200,\n",
        "    batch_size=32,\n",
        "    validation_data=(X_val, y_val)\n",
        ")\n"
      ],
      "metadata": {
        "colab": {
          "base_uri": "https://localhost:8080/",
          "height": 1000
        },
        "id": "HyQeN5mSsdKr",
        "outputId": "ef831072-2179-4ba6-866a-8512f0785d64"
      },
      "execution_count": 31,
      "outputs": [
        {
          "output_type": "display_data",
          "data": {
            "text/plain": [
              "\u001b[1mModel: \"sequential_2\"\u001b[0m\n"
            ],
            "text/html": [
              "<pre style=\"white-space:pre;overflow-x:auto;line-height:normal;font-family:Menlo,'DejaVu Sans Mono',consolas,'Courier New',monospace\"><span style=\"font-weight: bold\">Model: \"sequential_2\"</span>\n",
              "</pre>\n"
            ]
          },
          "metadata": {}
        },
        {
          "output_type": "display_data",
          "data": {
            "text/plain": [
              "┏━━━━━━━━━━━━━━━━━━━━━━━━━━━━━━━━━┳━━━━━━━━━━━━━━━━━━━━━━━━┳━━━━━━━━━━━━━━━┓\n",
              "┃\u001b[1m \u001b[0m\u001b[1mLayer (type)                   \u001b[0m\u001b[1m \u001b[0m┃\u001b[1m \u001b[0m\u001b[1mOutput Shape          \u001b[0m\u001b[1m \u001b[0m┃\u001b[1m \u001b[0m\u001b[1m      Param #\u001b[0m\u001b[1m \u001b[0m┃\n",
              "┡━━━━━━━━━━━━━━━━━━━━━━━━━━━━━━━━━╇━━━━━━━━━━━━━━━━━━━━━━━━╇━━━━━━━━━━━━━━━┩\n",
              "│ conv2d_4 (\u001b[38;5;33mConv2D\u001b[0m)               │ (\u001b[38;5;45mNone\u001b[0m, \u001b[38;5;34m126\u001b[0m, \u001b[38;5;34m126\u001b[0m, \u001b[38;5;34m32\u001b[0m)   │           \u001b[38;5;34m896\u001b[0m │\n",
              "├─────────────────────────────────┼────────────────────────┼───────────────┤\n",
              "│ max_pooling2d_4 (\u001b[38;5;33mMaxPooling2D\u001b[0m)  │ (\u001b[38;5;45mNone\u001b[0m, \u001b[38;5;34m63\u001b[0m, \u001b[38;5;34m63\u001b[0m, \u001b[38;5;34m32\u001b[0m)     │             \u001b[38;5;34m0\u001b[0m │\n",
              "├─────────────────────────────────┼────────────────────────┼───────────────┤\n",
              "│ conv2d_5 (\u001b[38;5;33mConv2D\u001b[0m)               │ (\u001b[38;5;45mNone\u001b[0m, \u001b[38;5;34m61\u001b[0m, \u001b[38;5;34m61\u001b[0m, \u001b[38;5;34m64\u001b[0m)     │        \u001b[38;5;34m18,496\u001b[0m │\n",
              "├─────────────────────────────────┼────────────────────────┼───────────────┤\n",
              "│ max_pooling2d_5 (\u001b[38;5;33mMaxPooling2D\u001b[0m)  │ (\u001b[38;5;45mNone\u001b[0m, \u001b[38;5;34m30\u001b[0m, \u001b[38;5;34m30\u001b[0m, \u001b[38;5;34m64\u001b[0m)     │             \u001b[38;5;34m0\u001b[0m │\n",
              "├─────────────────────────────────┼────────────────────────┼───────────────┤\n",
              "│ flatten_2 (\u001b[38;5;33mFlatten\u001b[0m)             │ (\u001b[38;5;45mNone\u001b[0m, \u001b[38;5;34m57600\u001b[0m)          │             \u001b[38;5;34m0\u001b[0m │\n",
              "├─────────────────────────────────┼────────────────────────┼───────────────┤\n",
              "│ dense_4 (\u001b[38;5;33mDense\u001b[0m)                 │ (\u001b[38;5;45mNone\u001b[0m, \u001b[38;5;34m128\u001b[0m)            │     \u001b[38;5;34m7,372,928\u001b[0m │\n",
              "├─────────────────────────────────┼────────────────────────┼───────────────┤\n",
              "│ dropout_2 (\u001b[38;5;33mDropout\u001b[0m)             │ (\u001b[38;5;45mNone\u001b[0m, \u001b[38;5;34m128\u001b[0m)            │             \u001b[38;5;34m0\u001b[0m │\n",
              "├─────────────────────────────────┼────────────────────────┼───────────────┤\n",
              "│ dense_5 (\u001b[38;5;33mDense\u001b[0m)                 │ (\u001b[38;5;45mNone\u001b[0m, \u001b[38;5;34m1\u001b[0m)              │           \u001b[38;5;34m129\u001b[0m │\n",
              "└─────────────────────────────────┴────────────────────────┴───────────────┘\n"
            ],
            "text/html": [
              "<pre style=\"white-space:pre;overflow-x:auto;line-height:normal;font-family:Menlo,'DejaVu Sans Mono',consolas,'Courier New',monospace\">┏━━━━━━━━━━━━━━━━━━━━━━━━━━━━━━━━━┳━━━━━━━━━━━━━━━━━━━━━━━━┳━━━━━━━━━━━━━━━┓\n",
              "┃<span style=\"font-weight: bold\"> Layer (type)                    </span>┃<span style=\"font-weight: bold\"> Output Shape           </span>┃<span style=\"font-weight: bold\">       Param # </span>┃\n",
              "┡━━━━━━━━━━━━━━━━━━━━━━━━━━━━━━━━━╇━━━━━━━━━━━━━━━━━━━━━━━━╇━━━━━━━━━━━━━━━┩\n",
              "│ conv2d_4 (<span style=\"color: #0087ff; text-decoration-color: #0087ff\">Conv2D</span>)               │ (<span style=\"color: #00d7ff; text-decoration-color: #00d7ff\">None</span>, <span style=\"color: #00af00; text-decoration-color: #00af00\">126</span>, <span style=\"color: #00af00; text-decoration-color: #00af00\">126</span>, <span style=\"color: #00af00; text-decoration-color: #00af00\">32</span>)   │           <span style=\"color: #00af00; text-decoration-color: #00af00\">896</span> │\n",
              "├─────────────────────────────────┼────────────────────────┼───────────────┤\n",
              "│ max_pooling2d_4 (<span style=\"color: #0087ff; text-decoration-color: #0087ff\">MaxPooling2D</span>)  │ (<span style=\"color: #00d7ff; text-decoration-color: #00d7ff\">None</span>, <span style=\"color: #00af00; text-decoration-color: #00af00\">63</span>, <span style=\"color: #00af00; text-decoration-color: #00af00\">63</span>, <span style=\"color: #00af00; text-decoration-color: #00af00\">32</span>)     │             <span style=\"color: #00af00; text-decoration-color: #00af00\">0</span> │\n",
              "├─────────────────────────────────┼────────────────────────┼───────────────┤\n",
              "│ conv2d_5 (<span style=\"color: #0087ff; text-decoration-color: #0087ff\">Conv2D</span>)               │ (<span style=\"color: #00d7ff; text-decoration-color: #00d7ff\">None</span>, <span style=\"color: #00af00; text-decoration-color: #00af00\">61</span>, <span style=\"color: #00af00; text-decoration-color: #00af00\">61</span>, <span style=\"color: #00af00; text-decoration-color: #00af00\">64</span>)     │        <span style=\"color: #00af00; text-decoration-color: #00af00\">18,496</span> │\n",
              "├─────────────────────────────────┼────────────────────────┼───────────────┤\n",
              "│ max_pooling2d_5 (<span style=\"color: #0087ff; text-decoration-color: #0087ff\">MaxPooling2D</span>)  │ (<span style=\"color: #00d7ff; text-decoration-color: #00d7ff\">None</span>, <span style=\"color: #00af00; text-decoration-color: #00af00\">30</span>, <span style=\"color: #00af00; text-decoration-color: #00af00\">30</span>, <span style=\"color: #00af00; text-decoration-color: #00af00\">64</span>)     │             <span style=\"color: #00af00; text-decoration-color: #00af00\">0</span> │\n",
              "├─────────────────────────────────┼────────────────────────┼───────────────┤\n",
              "│ flatten_2 (<span style=\"color: #0087ff; text-decoration-color: #0087ff\">Flatten</span>)             │ (<span style=\"color: #00d7ff; text-decoration-color: #00d7ff\">None</span>, <span style=\"color: #00af00; text-decoration-color: #00af00\">57600</span>)          │             <span style=\"color: #00af00; text-decoration-color: #00af00\">0</span> │\n",
              "├─────────────────────────────────┼────────────────────────┼───────────────┤\n",
              "│ dense_4 (<span style=\"color: #0087ff; text-decoration-color: #0087ff\">Dense</span>)                 │ (<span style=\"color: #00d7ff; text-decoration-color: #00d7ff\">None</span>, <span style=\"color: #00af00; text-decoration-color: #00af00\">128</span>)            │     <span style=\"color: #00af00; text-decoration-color: #00af00\">7,372,928</span> │\n",
              "├─────────────────────────────────┼────────────────────────┼───────────────┤\n",
              "│ dropout_2 (<span style=\"color: #0087ff; text-decoration-color: #0087ff\">Dropout</span>)             │ (<span style=\"color: #00d7ff; text-decoration-color: #00d7ff\">None</span>, <span style=\"color: #00af00; text-decoration-color: #00af00\">128</span>)            │             <span style=\"color: #00af00; text-decoration-color: #00af00\">0</span> │\n",
              "├─────────────────────────────────┼────────────────────────┼───────────────┤\n",
              "│ dense_5 (<span style=\"color: #0087ff; text-decoration-color: #0087ff\">Dense</span>)                 │ (<span style=\"color: #00d7ff; text-decoration-color: #00d7ff\">None</span>, <span style=\"color: #00af00; text-decoration-color: #00af00\">1</span>)              │           <span style=\"color: #00af00; text-decoration-color: #00af00\">129</span> │\n",
              "└─────────────────────────────────┴────────────────────────┴───────────────┘\n",
              "</pre>\n"
            ]
          },
          "metadata": {}
        },
        {
          "output_type": "display_data",
          "data": {
            "text/plain": [
              "\u001b[1m Total params: \u001b[0m\u001b[38;5;34m7,392,449\u001b[0m (28.20 MB)\n"
            ],
            "text/html": [
              "<pre style=\"white-space:pre;overflow-x:auto;line-height:normal;font-family:Menlo,'DejaVu Sans Mono',consolas,'Courier New',monospace\"><span style=\"font-weight: bold\"> Total params: </span><span style=\"color: #00af00; text-decoration-color: #00af00\">7,392,449</span> (28.20 MB)\n",
              "</pre>\n"
            ]
          },
          "metadata": {}
        },
        {
          "output_type": "display_data",
          "data": {
            "text/plain": [
              "\u001b[1m Trainable params: \u001b[0m\u001b[38;5;34m7,392,449\u001b[0m (28.20 MB)\n"
            ],
            "text/html": [
              "<pre style=\"white-space:pre;overflow-x:auto;line-height:normal;font-family:Menlo,'DejaVu Sans Mono',consolas,'Courier New',monospace\"><span style=\"font-weight: bold\"> Trainable params: </span><span style=\"color: #00af00; text-decoration-color: #00af00\">7,392,449</span> (28.20 MB)\n",
              "</pre>\n"
            ]
          },
          "metadata": {}
        },
        {
          "output_type": "display_data",
          "data": {
            "text/plain": [
              "\u001b[1m Non-trainable params: \u001b[0m\u001b[38;5;34m0\u001b[0m (0.00 B)\n"
            ],
            "text/html": [
              "<pre style=\"white-space:pre;overflow-x:auto;line-height:normal;font-family:Menlo,'DejaVu Sans Mono',consolas,'Courier New',monospace\"><span style=\"font-weight: bold\"> Non-trainable params: </span><span style=\"color: #00af00; text-decoration-color: #00af00\">0</span> (0.00 B)\n",
              "</pre>\n"
            ]
          },
          "metadata": {}
        },
        {
          "output_type": "stream",
          "name": "stdout",
          "text": [
            "Epoch 1/200\n",
            "\u001b[1m90/90\u001b[0m \u001b[32m━━━━━━━━━━━━━━━━━━━━\u001b[0m\u001b[37m\u001b[0m \u001b[1m6s\u001b[0m 36ms/step - accuracy: 0.5068 - loss: 0.6934 - val_accuracy: 0.5000 - val_loss: 0.6930\n",
            "Epoch 2/200\n",
            "\u001b[1m90/90\u001b[0m \u001b[32m━━━━━━━━━━━━━━━━━━━━\u001b[0m\u001b[37m\u001b[0m \u001b[1m3s\u001b[0m 21ms/step - accuracy: 0.5219 - loss: 0.6930 - val_accuracy: 0.5000 - val_loss: 0.6923\n",
            "Epoch 3/200\n",
            "\u001b[1m90/90\u001b[0m \u001b[32m━━━━━━━━━━━━━━━━━━━━\u001b[0m\u001b[37m\u001b[0m \u001b[1m2s\u001b[0m 18ms/step - accuracy: 0.5150 - loss: 0.6926 - val_accuracy: 0.6403 - val_loss: 0.6908\n",
            "Epoch 4/200\n",
            "\u001b[1m90/90\u001b[0m \u001b[32m━━━━━━━━━━━━━━━━━━━━\u001b[0m\u001b[37m\u001b[0m \u001b[1m3s\u001b[0m 20ms/step - accuracy: 0.5607 - loss: 0.6914 - val_accuracy: 0.6764 - val_loss: 0.6861\n",
            "Epoch 5/200\n",
            "\u001b[1m90/90\u001b[0m \u001b[32m━━━━━━━━━━━━━━━━━━━━\u001b[0m\u001b[37m\u001b[0m \u001b[1m2s\u001b[0m 19ms/step - accuracy: 0.5934 - loss: 0.6872 - val_accuracy: 0.6097 - val_loss: 0.6716\n",
            "Epoch 6/200\n",
            "\u001b[1m90/90\u001b[0m \u001b[32m━━━━━━━━━━━━━━━━━━━━\u001b[0m\u001b[37m\u001b[0m \u001b[1m2s\u001b[0m 18ms/step - accuracy: 0.5925 - loss: 0.6775 - val_accuracy: 0.7264 - val_loss: 0.6484\n",
            "Epoch 7/200\n",
            "\u001b[1m90/90\u001b[0m \u001b[32m━━━━━━━━━━━━━━━━━━━━\u001b[0m\u001b[37m\u001b[0m \u001b[1m3s\u001b[0m 20ms/step - accuracy: 0.6226 - loss: 0.6579 - val_accuracy: 0.7306 - val_loss: 0.6185\n",
            "Epoch 8/200\n",
            "\u001b[1m90/90\u001b[0m \u001b[32m━━━━━━━━━━━━━━━━━━━━\u001b[0m\u001b[37m\u001b[0m \u001b[1m2s\u001b[0m 18ms/step - accuracy: 0.6747 - loss: 0.6271 - val_accuracy: 0.7264 - val_loss: 0.6053\n",
            "Epoch 9/200\n",
            "\u001b[1m90/90\u001b[0m \u001b[32m━━━━━━━━━━━━━━━━━━━━\u001b[0m\u001b[37m\u001b[0m \u001b[1m2s\u001b[0m 19ms/step - accuracy: 0.6890 - loss: 0.6132 - val_accuracy: 0.7306 - val_loss: 0.5777\n",
            "Epoch 10/200\n",
            "\u001b[1m90/90\u001b[0m \u001b[32m━━━━━━━━━━━━━━━━━━━━\u001b[0m\u001b[37m\u001b[0m \u001b[1m2s\u001b[0m 18ms/step - accuracy: 0.7059 - loss: 0.5886 - val_accuracy: 0.7278 - val_loss: 0.5637\n",
            "Epoch 11/200\n",
            "\u001b[1m90/90\u001b[0m \u001b[32m━━━━━━━━━━━━━━━━━━━━\u001b[0m\u001b[37m\u001b[0m \u001b[1m3s\u001b[0m 19ms/step - accuracy: 0.7227 - loss: 0.5694 - val_accuracy: 0.7458 - val_loss: 0.5444\n",
            "Epoch 12/200\n",
            "\u001b[1m90/90\u001b[0m \u001b[32m━━━━━━━━━━━━━━━━━━━━\u001b[0m\u001b[37m\u001b[0m \u001b[1m2s\u001b[0m 18ms/step - accuracy: 0.7296 - loss: 0.5510 - val_accuracy: 0.7528 - val_loss: 0.5251\n",
            "Epoch 13/200\n",
            "\u001b[1m90/90\u001b[0m \u001b[32m━━━━━━━━━━━━━━━━━━━━\u001b[0m\u001b[37m\u001b[0m \u001b[1m2s\u001b[0m 19ms/step - accuracy: 0.7466 - loss: 0.5370 - val_accuracy: 0.7722 - val_loss: 0.5120\n",
            "Epoch 14/200\n",
            "\u001b[1m90/90\u001b[0m \u001b[32m━━━━━━━━━━━━━━━━━━━━\u001b[0m\u001b[37m\u001b[0m \u001b[1m2s\u001b[0m 21ms/step - accuracy: 0.7331 - loss: 0.5336 - val_accuracy: 0.7542 - val_loss: 0.5076\n",
            "Epoch 15/200\n",
            "\u001b[1m90/90\u001b[0m \u001b[32m━━━━━━━━━━━━━━━━━━━━\u001b[0m\u001b[37m\u001b[0m \u001b[1m2s\u001b[0m 20ms/step - accuracy: 0.7655 - loss: 0.5067 - val_accuracy: 0.7750 - val_loss: 0.4854\n",
            "Epoch 16/200\n",
            "\u001b[1m90/90\u001b[0m \u001b[32m━━━━━━━━━━━━━━━━━━━━\u001b[0m\u001b[37m\u001b[0m \u001b[1m2s\u001b[0m 18ms/step - accuracy: 0.7548 - loss: 0.5028 - val_accuracy: 0.7931 - val_loss: 0.4688\n",
            "Epoch 17/200\n",
            "\u001b[1m90/90\u001b[0m \u001b[32m━━━━━━━━━━━━━━━━━━━━\u001b[0m\u001b[37m\u001b[0m \u001b[1m3s\u001b[0m 17ms/step - accuracy: 0.7705 - loss: 0.4790 - val_accuracy: 0.7917 - val_loss: 0.4652\n",
            "Epoch 18/200\n",
            "\u001b[1m90/90\u001b[0m \u001b[32m━━━━━━━━━━━━━━━━━━━━\u001b[0m\u001b[37m\u001b[0m \u001b[1m2s\u001b[0m 18ms/step - accuracy: 0.7829 - loss: 0.4659 - val_accuracy: 0.7708 - val_loss: 0.4732\n",
            "Epoch 19/200\n",
            "\u001b[1m90/90\u001b[0m \u001b[32m━━━━━━━━━━━━━━━━━━━━\u001b[0m\u001b[37m\u001b[0m \u001b[1m3s\u001b[0m 18ms/step - accuracy: 0.7833 - loss: 0.4578 - val_accuracy: 0.8014 - val_loss: 0.4455\n",
            "Epoch 20/200\n",
            "\u001b[1m90/90\u001b[0m \u001b[32m━━━━━━━━━━━━━━━━━━━━\u001b[0m\u001b[37m\u001b[0m \u001b[1m3s\u001b[0m 20ms/step - accuracy: 0.8022 - loss: 0.4365 - val_accuracy: 0.8069 - val_loss: 0.4307\n",
            "Epoch 21/200\n",
            "\u001b[1m90/90\u001b[0m \u001b[32m━━━━━━━━━━━━━━━━━━━━\u001b[0m\u001b[37m\u001b[0m \u001b[1m3s\u001b[0m 19ms/step - accuracy: 0.7983 - loss: 0.4351 - val_accuracy: 0.8042 - val_loss: 0.4246\n",
            "Epoch 22/200\n",
            "\u001b[1m90/90\u001b[0m \u001b[32m━━━━━━━━━━━━━━━━━━━━\u001b[0m\u001b[37m\u001b[0m \u001b[1m2s\u001b[0m 19ms/step - accuracy: 0.7860 - loss: 0.4411 - val_accuracy: 0.8097 - val_loss: 0.4108\n",
            "Epoch 23/200\n",
            "\u001b[1m90/90\u001b[0m \u001b[32m━━━━━━━━━━━━━━━━━━━━\u001b[0m\u001b[37m\u001b[0m \u001b[1m2s\u001b[0m 18ms/step - accuracy: 0.8000 - loss: 0.4240 - val_accuracy: 0.8153 - val_loss: 0.4073\n",
            "Epoch 24/200\n",
            "\u001b[1m90/90\u001b[0m \u001b[32m━━━━━━━━━━━━━━━━━━━━\u001b[0m\u001b[37m\u001b[0m \u001b[1m3s\u001b[0m 18ms/step - accuracy: 0.8027 - loss: 0.4136 - val_accuracy: 0.8056 - val_loss: 0.3926\n",
            "Epoch 25/200\n",
            "\u001b[1m90/90\u001b[0m \u001b[32m━━━━━━━━━━━━━━━━━━━━\u001b[0m\u001b[37m\u001b[0m \u001b[1m2s\u001b[0m 19ms/step - accuracy: 0.7993 - loss: 0.4155 - val_accuracy: 0.8181 - val_loss: 0.3922\n",
            "Epoch 26/200\n",
            "\u001b[1m90/90\u001b[0m \u001b[32m━━━━━━━━━━━━━━━━━━━━\u001b[0m\u001b[37m\u001b[0m \u001b[1m2s\u001b[0m 21ms/step - accuracy: 0.8088 - loss: 0.3974 - val_accuracy: 0.8194 - val_loss: 0.3980\n",
            "Epoch 27/200\n",
            "\u001b[1m90/90\u001b[0m \u001b[32m━━━━━━━━━━━━━━━━━━━━\u001b[0m\u001b[37m\u001b[0m \u001b[1m2s\u001b[0m 20ms/step - accuracy: 0.8006 - loss: 0.4047 - val_accuracy: 0.8000 - val_loss: 0.3922\n",
            "Epoch 28/200\n",
            "\u001b[1m90/90\u001b[0m \u001b[32m━━━━━━━━━━━━━━━━━━━━\u001b[0m\u001b[37m\u001b[0m \u001b[1m2s\u001b[0m 19ms/step - accuracy: 0.8137 - loss: 0.3851 - val_accuracy: 0.8167 - val_loss: 0.3776\n",
            "Epoch 29/200\n",
            "\u001b[1m90/90\u001b[0m \u001b[32m━━━━━━━━━━━━━━━━━━━━\u001b[0m\u001b[37m\u001b[0m \u001b[1m2s\u001b[0m 18ms/step - accuracy: 0.7978 - loss: 0.4117 - val_accuracy: 0.8139 - val_loss: 0.3692\n",
            "Epoch 30/200\n",
            "\u001b[1m90/90\u001b[0m \u001b[32m━━━━━━━━━━━━━━━━━━━━\u001b[0m\u001b[37m\u001b[0m \u001b[1m2s\u001b[0m 18ms/step - accuracy: 0.8114 - loss: 0.3951 - val_accuracy: 0.8153 - val_loss: 0.3638\n",
            "Epoch 31/200\n",
            "\u001b[1m90/90\u001b[0m \u001b[32m━━━━━━━━━━━━━━━━━━━━\u001b[0m\u001b[37m\u001b[0m \u001b[1m3s\u001b[0m 18ms/step - accuracy: 0.8106 - loss: 0.3852 - val_accuracy: 0.8264 - val_loss: 0.3565\n",
            "Epoch 32/200\n",
            "\u001b[1m90/90\u001b[0m \u001b[32m━━━━━━━━━━━━━━━━━━━━\u001b[0m\u001b[37m\u001b[0m \u001b[1m3s\u001b[0m 21ms/step - accuracy: 0.8300 - loss: 0.3587 - val_accuracy: 0.8153 - val_loss: 0.3586\n",
            "Epoch 33/200\n",
            "\u001b[1m90/90\u001b[0m \u001b[32m━━━━━━━━━━━━━━━━━━━━\u001b[0m\u001b[37m\u001b[0m \u001b[1m3s\u001b[0m 21ms/step - accuracy: 0.8197 - loss: 0.3686 - val_accuracy: 0.8153 - val_loss: 0.3572\n",
            "Epoch 34/200\n",
            "\u001b[1m90/90\u001b[0m \u001b[32m━━━━━━━━━━━━━━━━━━━━\u001b[0m\u001b[37m\u001b[0m \u001b[1m2s\u001b[0m 18ms/step - accuracy: 0.8312 - loss: 0.3507 - val_accuracy: 0.8222 - val_loss: 0.3479\n",
            "Epoch 35/200\n",
            "\u001b[1m90/90\u001b[0m \u001b[32m━━━━━━━━━━━━━━━━━━━━\u001b[0m\u001b[37m\u001b[0m \u001b[1m3s\u001b[0m 20ms/step - accuracy: 0.8174 - loss: 0.3612 - val_accuracy: 0.8250 - val_loss: 0.3405\n",
            "Epoch 36/200\n",
            "\u001b[1m90/90\u001b[0m \u001b[32m━━━━━━━━━━━━━━━━━━━━\u001b[0m\u001b[37m\u001b[0m \u001b[1m2s\u001b[0m 18ms/step - accuracy: 0.8328 - loss: 0.3366 - val_accuracy: 0.8208 - val_loss: 0.3513\n",
            "Epoch 37/200\n",
            "\u001b[1m90/90\u001b[0m \u001b[32m━━━━━━━━━━━━━━━━━━━━\u001b[0m\u001b[37m\u001b[0m \u001b[1m3s\u001b[0m 21ms/step - accuracy: 0.8231 - loss: 0.3513 - val_accuracy: 0.8319 - val_loss: 0.3389\n",
            "Epoch 38/200\n",
            "\u001b[1m90/90\u001b[0m \u001b[32m━━━━━━━━━━━━━━━━━━━━\u001b[0m\u001b[37m\u001b[0m \u001b[1m2s\u001b[0m 20ms/step - accuracy: 0.8314 - loss: 0.3449 - val_accuracy: 0.8222 - val_loss: 0.3402\n",
            "Epoch 39/200\n",
            "\u001b[1m90/90\u001b[0m \u001b[32m━━━━━━━━━━━━━━━━━━━━\u001b[0m\u001b[37m\u001b[0m \u001b[1m2s\u001b[0m 18ms/step - accuracy: 0.8237 - loss: 0.3558 - val_accuracy: 0.8208 - val_loss: 0.3503\n",
            "Epoch 40/200\n",
            "\u001b[1m90/90\u001b[0m \u001b[32m━━━━━━━━━━━━━━━━━━━━\u001b[0m\u001b[37m\u001b[0m \u001b[1m3s\u001b[0m 18ms/step - accuracy: 0.8124 - loss: 0.3618 - val_accuracy: 0.8361 - val_loss: 0.3308\n",
            "Epoch 41/200\n",
            "\u001b[1m90/90\u001b[0m \u001b[32m━━━━━━━━━━━━━━━━━━━━\u001b[0m\u001b[37m\u001b[0m \u001b[1m3s\u001b[0m 19ms/step - accuracy: 0.8080 - loss: 0.3560 - val_accuracy: 0.8292 - val_loss: 0.3322\n",
            "Epoch 42/200\n",
            "\u001b[1m90/90\u001b[0m \u001b[32m━━━━━━━━━━━━━━━━━━━━\u001b[0m\u001b[37m\u001b[0m \u001b[1m2s\u001b[0m 18ms/step - accuracy: 0.8259 - loss: 0.3385 - val_accuracy: 0.8181 - val_loss: 0.3332\n",
            "Epoch 43/200\n",
            "\u001b[1m90/90\u001b[0m \u001b[32m━━━━━━━━━━━━━━━━━━━━\u001b[0m\u001b[37m\u001b[0m \u001b[1m3s\u001b[0m 20ms/step - accuracy: 0.8367 - loss: 0.3316 - val_accuracy: 0.8236 - val_loss: 0.3324\n",
            "Epoch 44/200\n",
            "\u001b[1m90/90\u001b[0m \u001b[32m━━━━━━━━━━━━━━━━━━━━\u001b[0m\u001b[37m\u001b[0m \u001b[1m3s\u001b[0m 20ms/step - accuracy: 0.8198 - loss: 0.3416 - val_accuracy: 0.8125 - val_loss: 0.3266\n",
            "Epoch 45/200\n",
            "\u001b[1m90/90\u001b[0m \u001b[32m━━━━━━━━━━━━━━━━━━━━\u001b[0m\u001b[37m\u001b[0m \u001b[1m2s\u001b[0m 18ms/step - accuracy: 0.8342 - loss: 0.3381 - val_accuracy: 0.8250 - val_loss: 0.3253\n",
            "Epoch 46/200\n",
            "\u001b[1m90/90\u001b[0m \u001b[32m━━━━━━━━━━━━━━━━━━━━\u001b[0m\u001b[37m\u001b[0m \u001b[1m3s\u001b[0m 20ms/step - accuracy: 0.8310 - loss: 0.3299 - val_accuracy: 0.8264 - val_loss: 0.3139\n",
            "Epoch 47/200\n",
            "\u001b[1m90/90\u001b[0m \u001b[32m━━━━━━━━━━━━━━━━━━━━\u001b[0m\u001b[37m\u001b[0m \u001b[1m3s\u001b[0m 20ms/step - accuracy: 0.8415 - loss: 0.3315 - val_accuracy: 0.8417 - val_loss: 0.3088\n",
            "Epoch 48/200\n",
            "\u001b[1m90/90\u001b[0m \u001b[32m━━━━━━━━━━━━━━━━━━━━\u001b[0m\u001b[37m\u001b[0m \u001b[1m2s\u001b[0m 20ms/step - accuracy: 0.8341 - loss: 0.3178 - val_accuracy: 0.8278 - val_loss: 0.3221\n",
            "Epoch 49/200\n",
            "\u001b[1m90/90\u001b[0m \u001b[32m━━━━━━━━━━━━━━━━━━━━\u001b[0m\u001b[37m\u001b[0m \u001b[1m2s\u001b[0m 21ms/step - accuracy: 0.8265 - loss: 0.3389 - val_accuracy: 0.8333 - val_loss: 0.3141\n",
            "Epoch 50/200\n",
            "\u001b[1m90/90\u001b[0m \u001b[32m━━━━━━━━━━━━━━━━━━━━\u001b[0m\u001b[37m\u001b[0m \u001b[1m2s\u001b[0m 19ms/step - accuracy: 0.8197 - loss: 0.3311 - val_accuracy: 0.8361 - val_loss: 0.3054\n",
            "Epoch 51/200\n",
            "\u001b[1m90/90\u001b[0m \u001b[32m━━━━━━━━━━━━━━━━━━━━\u001b[0m\u001b[37m\u001b[0m \u001b[1m2s\u001b[0m 18ms/step - accuracy: 0.8240 - loss: 0.3207 - val_accuracy: 0.8375 - val_loss: 0.3216\n",
            "Epoch 52/200\n",
            "\u001b[1m90/90\u001b[0m \u001b[32m━━━━━━━━━━━━━━━━━━━━\u001b[0m\u001b[37m\u001b[0m \u001b[1m2s\u001b[0m 18ms/step - accuracy: 0.8345 - loss: 0.3196 - val_accuracy: 0.8347 - val_loss: 0.3243\n",
            "Epoch 53/200\n",
            "\u001b[1m90/90\u001b[0m \u001b[32m━━━━━━━━━━━━━━━━━━━━\u001b[0m\u001b[37m\u001b[0m \u001b[1m2s\u001b[0m 18ms/step - accuracy: 0.8399 - loss: 0.3094 - val_accuracy: 0.8472 - val_loss: 0.3085\n",
            "Epoch 54/200\n",
            "\u001b[1m90/90\u001b[0m \u001b[32m━━━━━━━━━━━━━━━━━━━━\u001b[0m\u001b[37m\u001b[0m \u001b[1m2s\u001b[0m 18ms/step - accuracy: 0.8408 - loss: 0.3084 - val_accuracy: 0.8389 - val_loss: 0.3028\n",
            "Epoch 55/200\n",
            "\u001b[1m90/90\u001b[0m \u001b[32m━━━━━━━━━━━━━━━━━━━━\u001b[0m\u001b[37m\u001b[0m \u001b[1m3s\u001b[0m 21ms/step - accuracy: 0.8334 - loss: 0.3165 - val_accuracy: 0.8361 - val_loss: 0.3071\n",
            "Epoch 56/200\n",
            "\u001b[1m90/90\u001b[0m \u001b[32m━━━━━━━━━━━━━━━━━━━━\u001b[0m\u001b[37m\u001b[0m \u001b[1m2s\u001b[0m 20ms/step - accuracy: 0.8309 - loss: 0.3210 - val_accuracy: 0.8389 - val_loss: 0.3029\n",
            "Epoch 57/200\n",
            "\u001b[1m90/90\u001b[0m \u001b[32m━━━━━━━━━━━━━━━━━━━━\u001b[0m\u001b[37m\u001b[0m \u001b[1m2s\u001b[0m 19ms/step - accuracy: 0.8411 - loss: 0.3128 - val_accuracy: 0.8333 - val_loss: 0.2978\n",
            "Epoch 58/200\n",
            "\u001b[1m90/90\u001b[0m \u001b[32m━━━━━━━━━━━━━━━━━━━━\u001b[0m\u001b[37m\u001b[0m \u001b[1m2s\u001b[0m 18ms/step - accuracy: 0.8411 - loss: 0.3214 - val_accuracy: 0.8403 - val_loss: 0.2999\n",
            "Epoch 59/200\n",
            "\u001b[1m90/90\u001b[0m \u001b[32m━━━━━━━━━━━━━━━━━━━━\u001b[0m\u001b[37m\u001b[0m \u001b[1m2s\u001b[0m 20ms/step - accuracy: 0.8521 - loss: 0.2975 - val_accuracy: 0.8250 - val_loss: 0.3174\n",
            "Epoch 60/200\n",
            "\u001b[1m90/90\u001b[0m \u001b[32m━━━━━━━━━━━━━━━━━━━━\u001b[0m\u001b[37m\u001b[0m \u001b[1m3s\u001b[0m 19ms/step - accuracy: 0.8344 - loss: 0.3106 - val_accuracy: 0.8375 - val_loss: 0.3050\n",
            "Epoch 61/200\n",
            "\u001b[1m90/90\u001b[0m \u001b[32m━━━━━━━━━━━━━━━━━━━━\u001b[0m\u001b[37m\u001b[0m \u001b[1m2s\u001b[0m 18ms/step - accuracy: 0.8475 - loss: 0.3002 - val_accuracy: 0.8375 - val_loss: 0.2983\n",
            "Epoch 62/200\n",
            "\u001b[1m90/90\u001b[0m \u001b[32m━━━━━━━━━━━━━━━━━━━━\u001b[0m\u001b[37m\u001b[0m \u001b[1m2s\u001b[0m 20ms/step - accuracy: 0.8397 - loss: 0.3069 - val_accuracy: 0.8319 - val_loss: 0.3077\n",
            "Epoch 63/200\n",
            "\u001b[1m90/90\u001b[0m \u001b[32m━━━━━━━━━━━━━━━━━━━━\u001b[0m\u001b[37m\u001b[0m \u001b[1m2s\u001b[0m 18ms/step - accuracy: 0.8521 - loss: 0.2987 - val_accuracy: 0.8389 - val_loss: 0.2978\n",
            "Epoch 64/200\n",
            "\u001b[1m90/90\u001b[0m \u001b[32m━━━━━━━━━━━━━━━━━━━━\u001b[0m\u001b[37m\u001b[0m \u001b[1m2s\u001b[0m 18ms/step - accuracy: 0.8496 - loss: 0.3078 - val_accuracy: 0.8292 - val_loss: 0.3012\n",
            "Epoch 65/200\n",
            "\u001b[1m90/90\u001b[0m \u001b[32m━━━━━━━━━━━━━━━━━━━━\u001b[0m\u001b[37m\u001b[0m \u001b[1m2s\u001b[0m 18ms/step - accuracy: 0.8433 - loss: 0.3205 - val_accuracy: 0.8500 - val_loss: 0.3007\n",
            "Epoch 66/200\n",
            "\u001b[1m90/90\u001b[0m \u001b[32m━━━━━━━━━━━━━━━━━━━━\u001b[0m\u001b[37m\u001b[0m \u001b[1m3s\u001b[0m 18ms/step - accuracy: 0.8457 - loss: 0.3018 - val_accuracy: 0.8361 - val_loss: 0.2926\n",
            "Epoch 67/200\n",
            "\u001b[1m90/90\u001b[0m \u001b[32m━━━━━━━━━━━━━━━━━━━━\u001b[0m\u001b[37m\u001b[0m \u001b[1m3s\u001b[0m 18ms/step - accuracy: 0.8404 - loss: 0.3015 - val_accuracy: 0.8472 - val_loss: 0.2948\n",
            "Epoch 68/200\n",
            "\u001b[1m90/90\u001b[0m \u001b[32m━━━━━━━━━━━━━━━━━━━━\u001b[0m\u001b[37m\u001b[0m \u001b[1m3s\u001b[0m 22ms/step - accuracy: 0.8408 - loss: 0.3017 - val_accuracy: 0.8431 - val_loss: 0.2967\n",
            "Epoch 69/200\n",
            "\u001b[1m90/90\u001b[0m \u001b[32m━━━━━━━━━━━━━━━━━━━━\u001b[0m\u001b[37m\u001b[0m \u001b[1m2s\u001b[0m 20ms/step - accuracy: 0.8428 - loss: 0.2945 - val_accuracy: 0.8361 - val_loss: 0.2892\n",
            "Epoch 70/200\n",
            "\u001b[1m90/90\u001b[0m \u001b[32m━━━━━━━━━━━━━━━━━━━━\u001b[0m\u001b[37m\u001b[0m \u001b[1m2s\u001b[0m 20ms/step - accuracy: 0.8513 - loss: 0.2906 - val_accuracy: 0.8556 - val_loss: 0.2882\n",
            "Epoch 71/200\n",
            "\u001b[1m90/90\u001b[0m \u001b[32m━━━━━━━━━━━━━━━━━━━━\u001b[0m\u001b[37m\u001b[0m \u001b[1m2s\u001b[0m 18ms/step - accuracy: 0.8383 - loss: 0.2992 - val_accuracy: 0.8514 - val_loss: 0.2828\n",
            "Epoch 72/200\n",
            "\u001b[1m90/90\u001b[0m \u001b[32m━━━━━━━━━━━━━━━━━━━━\u001b[0m\u001b[37m\u001b[0m \u001b[1m3s\u001b[0m 19ms/step - accuracy: 0.8465 - loss: 0.3041 - val_accuracy: 0.8361 - val_loss: 0.2909\n",
            "Epoch 73/200\n",
            "\u001b[1m90/90\u001b[0m \u001b[32m━━━━━━━━━━━━━━━━━━━━\u001b[0m\u001b[37m\u001b[0m \u001b[1m2s\u001b[0m 18ms/step - accuracy: 0.8506 - loss: 0.2950 - val_accuracy: 0.8472 - val_loss: 0.2957\n",
            "Epoch 74/200\n",
            "\u001b[1m90/90\u001b[0m \u001b[32m━━━━━━━━━━━━━━━━━━━━\u001b[0m\u001b[37m\u001b[0m \u001b[1m3s\u001b[0m 21ms/step - accuracy: 0.8355 - loss: 0.3039 - val_accuracy: 0.8375 - val_loss: 0.2936\n",
            "Epoch 75/200\n",
            "\u001b[1m90/90\u001b[0m \u001b[32m━━━━━━━━━━━━━━━━━━━━\u001b[0m\u001b[37m\u001b[0m \u001b[1m2s\u001b[0m 18ms/step - accuracy: 0.8468 - loss: 0.3002 - val_accuracy: 0.8569 - val_loss: 0.2776\n",
            "Epoch 76/200\n",
            "\u001b[1m90/90\u001b[0m \u001b[32m━━━━━━━━━━━━━━━━━━━━\u001b[0m\u001b[37m\u001b[0m \u001b[1m2s\u001b[0m 18ms/step - accuracy: 0.8480 - loss: 0.2953 - val_accuracy: 0.8542 - val_loss: 0.2883\n",
            "Epoch 77/200\n",
            "\u001b[1m90/90\u001b[0m \u001b[32m━━━━━━━━━━━━━━━━━━━━\u001b[0m\u001b[37m\u001b[0m \u001b[1m3s\u001b[0m 18ms/step - accuracy: 0.8496 - loss: 0.3015 - val_accuracy: 0.8417 - val_loss: 0.2869\n",
            "Epoch 78/200\n",
            "\u001b[1m90/90\u001b[0m \u001b[32m━━━━━━━━━━━━━━━━━━━━\u001b[0m\u001b[37m\u001b[0m \u001b[1m3s\u001b[0m 18ms/step - accuracy: 0.8458 - loss: 0.2864 - val_accuracy: 0.8514 - val_loss: 0.2858\n",
            "Epoch 79/200\n",
            "\u001b[1m90/90\u001b[0m \u001b[32m━━━━━━━━━━━━━━━━━━━━\u001b[0m\u001b[37m\u001b[0m \u001b[1m3s\u001b[0m 20ms/step - accuracy: 0.8594 - loss: 0.2921 - val_accuracy: 0.8556 - val_loss: 0.2834\n",
            "Epoch 80/200\n",
            "\u001b[1m90/90\u001b[0m \u001b[32m━━━━━━━━━━━━━━━━━━━━\u001b[0m\u001b[37m\u001b[0m \u001b[1m2s\u001b[0m 20ms/step - accuracy: 0.8446 - loss: 0.2917 - val_accuracy: 0.8486 - val_loss: 0.2881\n",
            "Epoch 81/200\n",
            "\u001b[1m90/90\u001b[0m \u001b[32m━━━━━━━━━━━━━━━━━━━━\u001b[0m\u001b[37m\u001b[0m \u001b[1m2s\u001b[0m 18ms/step - accuracy: 0.8648 - loss: 0.2797 - val_accuracy: 0.8306 - val_loss: 0.2944\n",
            "Epoch 82/200\n",
            "\u001b[1m90/90\u001b[0m \u001b[32m━━━━━━━━━━━━━━━━━━━━\u001b[0m\u001b[37m\u001b[0m \u001b[1m3s\u001b[0m 18ms/step - accuracy: 0.8540 - loss: 0.2918 - val_accuracy: 0.8639 - val_loss: 0.2832\n",
            "Epoch 83/200\n",
            "\u001b[1m90/90\u001b[0m \u001b[32m━━━━━━━━━━━━━━━━━━━━\u001b[0m\u001b[37m\u001b[0m \u001b[1m3s\u001b[0m 18ms/step - accuracy: 0.8553 - loss: 0.2807 - val_accuracy: 0.8486 - val_loss: 0.2857\n",
            "Epoch 84/200\n",
            "\u001b[1m90/90\u001b[0m \u001b[32m━━━━━━━━━━━━━━━━━━━━\u001b[0m\u001b[37m\u001b[0m \u001b[1m2s\u001b[0m 20ms/step - accuracy: 0.8549 - loss: 0.2873 - val_accuracy: 0.8458 - val_loss: 0.2883\n",
            "Epoch 85/200\n",
            "\u001b[1m90/90\u001b[0m \u001b[32m━━━━━━━━━━━━━━━━━━━━\u001b[0m\u001b[37m\u001b[0m \u001b[1m2s\u001b[0m 18ms/step - accuracy: 0.8412 - loss: 0.2966 - val_accuracy: 0.8542 - val_loss: 0.2772\n",
            "Epoch 86/200\n",
            "\u001b[1m90/90\u001b[0m \u001b[32m━━━━━━━━━━━━━━━━━━━━\u001b[0m\u001b[37m\u001b[0m \u001b[1m3s\u001b[0m 21ms/step - accuracy: 0.8407 - loss: 0.2901 - val_accuracy: 0.8500 - val_loss: 0.2892\n",
            "Epoch 87/200\n",
            "\u001b[1m90/90\u001b[0m \u001b[32m━━━━━━━━━━━━━━━━━━━━\u001b[0m\u001b[37m\u001b[0m \u001b[1m2s\u001b[0m 19ms/step - accuracy: 0.8446 - loss: 0.3016 - val_accuracy: 0.8417 - val_loss: 0.2856\n",
            "Epoch 88/200\n",
            "\u001b[1m90/90\u001b[0m \u001b[32m━━━━━━━━━━━━━━━━━━━━\u001b[0m\u001b[37m\u001b[0m \u001b[1m2s\u001b[0m 18ms/step - accuracy: 0.8550 - loss: 0.2785 - val_accuracy: 0.8431 - val_loss: 0.2886\n",
            "Epoch 89/200\n",
            "\u001b[1m90/90\u001b[0m \u001b[32m━━━━━━━━━━━━━━━━━━━━\u001b[0m\u001b[37m\u001b[0m \u001b[1m3s\u001b[0m 20ms/step - accuracy: 0.8486 - loss: 0.2895 - val_accuracy: 0.8472 - val_loss: 0.2871\n",
            "Epoch 90/200\n",
            "\u001b[1m90/90\u001b[0m \u001b[32m━━━━━━━━━━━━━━━━━━━━\u001b[0m\u001b[37m\u001b[0m \u001b[1m2s\u001b[0m 19ms/step - accuracy: 0.8408 - loss: 0.2871 - val_accuracy: 0.8514 - val_loss: 0.2783\n",
            "Epoch 91/200\n",
            "\u001b[1m90/90\u001b[0m \u001b[32m━━━━━━━━━━━━━━━━━━━━\u001b[0m\u001b[37m\u001b[0m \u001b[1m2s\u001b[0m 19ms/step - accuracy: 0.8368 - loss: 0.3099 - val_accuracy: 0.8500 - val_loss: 0.2768\n",
            "Epoch 92/200\n",
            "\u001b[1m90/90\u001b[0m \u001b[32m━━━━━━━━━━━━━━━━━━━━\u001b[0m\u001b[37m\u001b[0m \u001b[1m2s\u001b[0m 20ms/step - accuracy: 0.8567 - loss: 0.2777 - val_accuracy: 0.8500 - val_loss: 0.2849\n",
            "Epoch 93/200\n",
            "\u001b[1m90/90\u001b[0m \u001b[32m━━━━━━━━━━━━━━━━━━━━\u001b[0m\u001b[37m\u001b[0m \u001b[1m2s\u001b[0m 20ms/step - accuracy: 0.8442 - loss: 0.2991 - val_accuracy: 0.8500 - val_loss: 0.2943\n",
            "Epoch 94/200\n",
            "\u001b[1m90/90\u001b[0m \u001b[32m━━━━━━━━━━━━━━━━━━━━\u001b[0m\u001b[37m\u001b[0m \u001b[1m3s\u001b[0m 20ms/step - accuracy: 0.8575 - loss: 0.2866 - val_accuracy: 0.8569 - val_loss: 0.2832\n",
            "Epoch 95/200\n",
            "\u001b[1m90/90\u001b[0m \u001b[32m━━━━━━━━━━━━━━━━━━━━\u001b[0m\u001b[37m\u001b[0m \u001b[1m2s\u001b[0m 18ms/step - accuracy: 0.8576 - loss: 0.2881 - val_accuracy: 0.8528 - val_loss: 0.2833\n",
            "Epoch 96/200\n",
            "\u001b[1m90/90\u001b[0m \u001b[32m━━━━━━━━━━━━━━━━━━━━\u001b[0m\u001b[37m\u001b[0m \u001b[1m2s\u001b[0m 18ms/step - accuracy: 0.8562 - loss: 0.2842 - val_accuracy: 0.8597 - val_loss: 0.2736\n",
            "Epoch 97/200\n",
            "\u001b[1m90/90\u001b[0m \u001b[32m━━━━━━━━━━━━━━━━━━━━\u001b[0m\u001b[37m\u001b[0m \u001b[1m3s\u001b[0m 18ms/step - accuracy: 0.8423 - loss: 0.2836 - val_accuracy: 0.8528 - val_loss: 0.2882\n",
            "Epoch 98/200\n",
            "\u001b[1m90/90\u001b[0m \u001b[32m━━━━━━━━━━━━━━━━━━━━\u001b[0m\u001b[37m\u001b[0m \u001b[1m2s\u001b[0m 20ms/step - accuracy: 0.8438 - loss: 0.2862 - val_accuracy: 0.8528 - val_loss: 0.2894\n",
            "Epoch 99/200\n",
            "\u001b[1m90/90\u001b[0m \u001b[32m━━━━━━━━━━━━━━━━━━━━\u001b[0m\u001b[37m\u001b[0m \u001b[1m2s\u001b[0m 21ms/step - accuracy: 0.8611 - loss: 0.2700 - val_accuracy: 0.8542 - val_loss: 0.2840\n",
            "Epoch 100/200\n",
            "\u001b[1m90/90\u001b[0m \u001b[32m━━━━━━━━━━━━━━━━━━━━\u001b[0m\u001b[37m\u001b[0m \u001b[1m2s\u001b[0m 19ms/step - accuracy: 0.8492 - loss: 0.2941 - val_accuracy: 0.8569 - val_loss: 0.2765\n",
            "Epoch 101/200\n",
            "\u001b[1m90/90\u001b[0m \u001b[32m━━━━━━━━━━━━━━━━━━━━\u001b[0m\u001b[37m\u001b[0m \u001b[1m2s\u001b[0m 18ms/step - accuracy: 0.8484 - loss: 0.2870 - val_accuracy: 0.8319 - val_loss: 0.2964\n",
            "Epoch 102/200\n",
            "\u001b[1m90/90\u001b[0m \u001b[32m━━━━━━━━━━━━━━━━━━━━\u001b[0m\u001b[37m\u001b[0m \u001b[1m2s\u001b[0m 18ms/step - accuracy: 0.8479 - loss: 0.2750 - val_accuracy: 0.8611 - val_loss: 0.2800\n",
            "Epoch 103/200\n",
            "\u001b[1m90/90\u001b[0m \u001b[32m━━━━━━━━━━━━━━━━━━━━\u001b[0m\u001b[37m\u001b[0m \u001b[1m3s\u001b[0m 20ms/step - accuracy: 0.8579 - loss: 0.2819 - val_accuracy: 0.8528 - val_loss: 0.2805\n",
            "Epoch 104/200\n",
            "\u001b[1m90/90\u001b[0m \u001b[32m━━━━━━━━━━━━━━━━━━━━\u001b[0m\u001b[37m\u001b[0m \u001b[1m2s\u001b[0m 20ms/step - accuracy: 0.8542 - loss: 0.2716 - val_accuracy: 0.8556 - val_loss: 0.2687\n",
            "Epoch 105/200\n",
            "\u001b[1m90/90\u001b[0m \u001b[32m━━━━━━━━━━━━━━━━━━━━\u001b[0m\u001b[37m\u001b[0m \u001b[1m2s\u001b[0m 21ms/step - accuracy: 0.8504 - loss: 0.2890 - val_accuracy: 0.8500 - val_loss: 0.2742\n",
            "Epoch 106/200\n",
            "\u001b[1m90/90\u001b[0m \u001b[32m━━━━━━━━━━━━━━━━━━━━\u001b[0m\u001b[37m\u001b[0m \u001b[1m2s\u001b[0m 18ms/step - accuracy: 0.8391 - loss: 0.2938 - val_accuracy: 0.8431 - val_loss: 0.2841\n",
            "Epoch 107/200\n",
            "\u001b[1m90/90\u001b[0m \u001b[32m━━━━━━━━━━━━━━━━━━━━\u001b[0m\u001b[37m\u001b[0m \u001b[1m2s\u001b[0m 18ms/step - accuracy: 0.8562 - loss: 0.2728 - val_accuracy: 0.8458 - val_loss: 0.2727\n",
            "Epoch 108/200\n",
            "\u001b[1m90/90\u001b[0m \u001b[32m━━━━━━━━━━━━━━━━━━━━\u001b[0m\u001b[37m\u001b[0m \u001b[1m3s\u001b[0m 20ms/step - accuracy: 0.8587 - loss: 0.2877 - val_accuracy: 0.8556 - val_loss: 0.2876\n",
            "Epoch 109/200\n",
            "\u001b[1m90/90\u001b[0m \u001b[32m━━━━━━━━━━━━━━━━━━━━\u001b[0m\u001b[37m\u001b[0m \u001b[1m2s\u001b[0m 18ms/step - accuracy: 0.8538 - loss: 0.2718 - val_accuracy: 0.8625 - val_loss: 0.2673\n",
            "Epoch 110/200\n",
            "\u001b[1m90/90\u001b[0m \u001b[32m━━━━━━━━━━━━━━━━━━━━\u001b[0m\u001b[37m\u001b[0m \u001b[1m2s\u001b[0m 20ms/step - accuracy: 0.8466 - loss: 0.2873 - val_accuracy: 0.8528 - val_loss: 0.2743\n",
            "Epoch 111/200\n",
            "\u001b[1m90/90\u001b[0m \u001b[32m━━━━━━━━━━━━━━━━━━━━\u001b[0m\u001b[37m\u001b[0m \u001b[1m2s\u001b[0m 21ms/step - accuracy: 0.8423 - loss: 0.2815 - val_accuracy: 0.8569 - val_loss: 0.2719\n",
            "Epoch 112/200\n",
            "\u001b[1m90/90\u001b[0m \u001b[32m━━━━━━━━━━━━━━━━━━━━\u001b[0m\u001b[37m\u001b[0m \u001b[1m2s\u001b[0m 18ms/step - accuracy: 0.8514 - loss: 0.2849 - val_accuracy: 0.8472 - val_loss: 0.2732\n",
            "Epoch 113/200\n",
            "\u001b[1m90/90\u001b[0m \u001b[32m━━━━━━━━━━━━━━━━━━━━\u001b[0m\u001b[37m\u001b[0m \u001b[1m3s\u001b[0m 18ms/step - accuracy: 0.8489 - loss: 0.2836 - val_accuracy: 0.8514 - val_loss: 0.2717\n",
            "Epoch 114/200\n",
            "\u001b[1m90/90\u001b[0m \u001b[32m━━━━━━━━━━━━━━━━━━━━\u001b[0m\u001b[37m\u001b[0m \u001b[1m2s\u001b[0m 18ms/step - accuracy: 0.8521 - loss: 0.2820 - val_accuracy: 0.8444 - val_loss: 0.2741\n",
            "Epoch 115/200\n",
            "\u001b[1m90/90\u001b[0m \u001b[32m━━━━━━━━━━━━━━━━━━━━\u001b[0m\u001b[37m\u001b[0m \u001b[1m2s\u001b[0m 18ms/step - accuracy: 0.8491 - loss: 0.2697 - val_accuracy: 0.8389 - val_loss: 0.2867\n",
            "Epoch 116/200\n",
            "\u001b[1m90/90\u001b[0m \u001b[32m━━━━━━━━━━━━━━━━━━━━\u001b[0m\u001b[37m\u001b[0m \u001b[1m3s\u001b[0m 18ms/step - accuracy: 0.8534 - loss: 0.2798 - val_accuracy: 0.8500 - val_loss: 0.2743\n",
            "Epoch 117/200\n",
            "\u001b[1m90/90\u001b[0m \u001b[32m━━━━━━━━━━━━━━━━━━━━\u001b[0m\u001b[37m\u001b[0m \u001b[1m2s\u001b[0m 20ms/step - accuracy: 0.8467 - loss: 0.2921 - val_accuracy: 0.8444 - val_loss: 0.2798\n",
            "Epoch 118/200\n",
            "\u001b[1m90/90\u001b[0m \u001b[32m━━━━━━━━━━━━━━━━━━━━\u001b[0m\u001b[37m\u001b[0m \u001b[1m2s\u001b[0m 22ms/step - accuracy: 0.8532 - loss: 0.2759 - val_accuracy: 0.8542 - val_loss: 0.2748\n",
            "Epoch 119/200\n",
            "\u001b[1m90/90\u001b[0m \u001b[32m━━━━━━━━━━━━━━━━━━━━\u001b[0m\u001b[37m\u001b[0m \u001b[1m2s\u001b[0m 18ms/step - accuracy: 0.8610 - loss: 0.2671 - val_accuracy: 0.8472 - val_loss: 0.2723\n",
            "Epoch 120/200\n",
            "\u001b[1m90/90\u001b[0m \u001b[32m━━━━━━━━━━━━━━━━━━━━\u001b[0m\u001b[37m\u001b[0m \u001b[1m3s\u001b[0m 18ms/step - accuracy: 0.8528 - loss: 0.2713 - val_accuracy: 0.8597 - val_loss: 0.2785\n",
            "Epoch 121/200\n",
            "\u001b[1m90/90\u001b[0m \u001b[32m━━━━━━━━━━━━━━━━━━━━\u001b[0m\u001b[37m\u001b[0m \u001b[1m2s\u001b[0m 20ms/step - accuracy: 0.8501 - loss: 0.2817 - val_accuracy: 0.8417 - val_loss: 0.2768\n",
            "Epoch 122/200\n",
            "\u001b[1m90/90\u001b[0m \u001b[32m━━━━━━━━━━━━━━━━━━━━\u001b[0m\u001b[37m\u001b[0m \u001b[1m2s\u001b[0m 19ms/step - accuracy: 0.8442 - loss: 0.2918 - val_accuracy: 0.8583 - val_loss: 0.2774\n",
            "Epoch 123/200\n",
            "\u001b[1m90/90\u001b[0m \u001b[32m━━━━━━━━━━━━━━━━━━━━\u001b[0m\u001b[37m\u001b[0m \u001b[1m2s\u001b[0m 18ms/step - accuracy: 0.8523 - loss: 0.2795 - val_accuracy: 0.8528 - val_loss: 0.2783\n",
            "Epoch 124/200\n",
            "\u001b[1m90/90\u001b[0m \u001b[32m━━━━━━━━━━━━━━━━━━━━\u001b[0m\u001b[37m\u001b[0m \u001b[1m3s\u001b[0m 21ms/step - accuracy: 0.8667 - loss: 0.2518 - val_accuracy: 0.8569 - val_loss: 0.2768\n",
            "Epoch 125/200\n",
            "\u001b[1m90/90\u001b[0m \u001b[32m━━━━━━━━━━━━━━━━━━━━\u001b[0m\u001b[37m\u001b[0m \u001b[1m2s\u001b[0m 20ms/step - accuracy: 0.8518 - loss: 0.2824 - val_accuracy: 0.8500 - val_loss: 0.2765\n",
            "Epoch 126/200\n",
            "\u001b[1m90/90\u001b[0m \u001b[32m━━━━━━━━━━━━━━━━━━━━\u001b[0m\u001b[37m\u001b[0m \u001b[1m2s\u001b[0m 20ms/step - accuracy: 0.8482 - loss: 0.2825 - val_accuracy: 0.8556 - val_loss: 0.2738\n",
            "Epoch 127/200\n",
            "\u001b[1m90/90\u001b[0m \u001b[32m━━━━━━━━━━━━━━━━━━━━\u001b[0m\u001b[37m\u001b[0m \u001b[1m2s\u001b[0m 18ms/step - accuracy: 0.8498 - loss: 0.2814 - val_accuracy: 0.8486 - val_loss: 0.2646\n",
            "Epoch 128/200\n",
            "\u001b[1m90/90\u001b[0m \u001b[32m━━━━━━━━━━━━━━━━━━━━\u001b[0m\u001b[37m\u001b[0m \u001b[1m2s\u001b[0m 20ms/step - accuracy: 0.8573 - loss: 0.2780 - val_accuracy: 0.8556 - val_loss: 0.2632\n",
            "Epoch 129/200\n",
            "\u001b[1m90/90\u001b[0m \u001b[32m━━━━━━━━━━━━━━━━━━━━\u001b[0m\u001b[37m\u001b[0m \u001b[1m2s\u001b[0m 20ms/step - accuracy: 0.8542 - loss: 0.2830 - val_accuracy: 0.8500 - val_loss: 0.2794\n",
            "Epoch 130/200\n",
            "\u001b[1m90/90\u001b[0m \u001b[32m━━━━━━━━━━━━━━━━━━━━\u001b[0m\u001b[37m\u001b[0m \u001b[1m3s\u001b[0m 21ms/step - accuracy: 0.8492 - loss: 0.2760 - val_accuracy: 0.8583 - val_loss: 0.2780\n",
            "Epoch 131/200\n",
            "\u001b[1m90/90\u001b[0m \u001b[32m━━━━━━━━━━━━━━━━━━━━\u001b[0m\u001b[37m\u001b[0m \u001b[1m2s\u001b[0m 20ms/step - accuracy: 0.8461 - loss: 0.2804 - val_accuracy: 0.8500 - val_loss: 0.2717\n",
            "Epoch 132/200\n",
            "\u001b[1m90/90\u001b[0m \u001b[32m━━━━━━━━━━━━━━━━━━━━\u001b[0m\u001b[37m\u001b[0m \u001b[1m2s\u001b[0m 18ms/step - accuracy: 0.8486 - loss: 0.2735 - val_accuracy: 0.8569 - val_loss: 0.2687\n",
            "Epoch 133/200\n",
            "\u001b[1m90/90\u001b[0m \u001b[32m━━━━━━━━━━━━━━━━━━━━\u001b[0m\u001b[37m\u001b[0m \u001b[1m2s\u001b[0m 18ms/step - accuracy: 0.8574 - loss: 0.2733 - val_accuracy: 0.8542 - val_loss: 0.2743\n",
            "Epoch 134/200\n",
            "\u001b[1m90/90\u001b[0m \u001b[32m━━━━━━━━━━━━━━━━━━━━\u001b[0m\u001b[37m\u001b[0m \u001b[1m3s\u001b[0m 18ms/step - accuracy: 0.8470 - loss: 0.2860 - val_accuracy: 0.8583 - val_loss: 0.2695\n",
            "Epoch 135/200\n",
            "\u001b[1m90/90\u001b[0m \u001b[32m━━━━━━━━━━━━━━━━━━━━\u001b[0m\u001b[37m\u001b[0m \u001b[1m3s\u001b[0m 20ms/step - accuracy: 0.8471 - loss: 0.2797 - val_accuracy: 0.8514 - val_loss: 0.2755\n",
            "Epoch 136/200\n",
            "\u001b[1m90/90\u001b[0m \u001b[32m━━━━━━━━━━━━━━━━━━━━\u001b[0m\u001b[37m\u001b[0m \u001b[1m2s\u001b[0m 22ms/step - accuracy: 0.8632 - loss: 0.2626 - val_accuracy: 0.8708 - val_loss: 0.2719\n",
            "Epoch 137/200\n",
            "\u001b[1m90/90\u001b[0m \u001b[32m━━━━━━━━━━━━━━━━━━━━\u001b[0m\u001b[37m\u001b[0m \u001b[1m2s\u001b[0m 19ms/step - accuracy: 0.8409 - loss: 0.2771 - val_accuracy: 0.8569 - val_loss: 0.2676\n",
            "Epoch 138/200\n",
            "\u001b[1m90/90\u001b[0m \u001b[32m━━━━━━━━━━━━━━━━━━━━\u001b[0m\u001b[37m\u001b[0m \u001b[1m2s\u001b[0m 18ms/step - accuracy: 0.8646 - loss: 0.2657 - val_accuracy: 0.8583 - val_loss: 0.2840\n",
            "Epoch 139/200\n",
            "\u001b[1m90/90\u001b[0m \u001b[32m━━━━━━━━━━━━━━━━━━━━\u001b[0m\u001b[37m\u001b[0m \u001b[1m2s\u001b[0m 18ms/step - accuracy: 0.8543 - loss: 0.2816 - val_accuracy: 0.8528 - val_loss: 0.2741\n",
            "Epoch 140/200\n",
            "\u001b[1m90/90\u001b[0m \u001b[32m━━━━━━━━━━━━━━━━━━━━\u001b[0m\u001b[37m\u001b[0m \u001b[1m2s\u001b[0m 18ms/step - accuracy: 0.8452 - loss: 0.2801 - val_accuracy: 0.8500 - val_loss: 0.2739\n",
            "Epoch 141/200\n",
            "\u001b[1m90/90\u001b[0m \u001b[32m━━━━━━━━━━━━━━━━━━━━\u001b[0m\u001b[37m\u001b[0m \u001b[1m3s\u001b[0m 18ms/step - accuracy: 0.8402 - loss: 0.2755 - val_accuracy: 0.8458 - val_loss: 0.2940\n",
            "Epoch 142/200\n",
            "\u001b[1m90/90\u001b[0m \u001b[32m━━━━━━━━━━━━━━━━━━━━\u001b[0m\u001b[37m\u001b[0m \u001b[1m2s\u001b[0m 21ms/step - accuracy: 0.8592 - loss: 0.2630 - val_accuracy: 0.8528 - val_loss: 0.2746\n",
            "Epoch 143/200\n",
            "\u001b[1m90/90\u001b[0m \u001b[32m━━━━━━━━━━━━━━━━━━━━\u001b[0m\u001b[37m\u001b[0m \u001b[1m2s\u001b[0m 21ms/step - accuracy: 0.8733 - loss: 0.2570 - val_accuracy: 0.8556 - val_loss: 0.2708\n",
            "Epoch 144/200\n",
            "\u001b[1m90/90\u001b[0m \u001b[32m━━━━━━━━━━━━━━━━━━━━\u001b[0m\u001b[37m\u001b[0m \u001b[1m2s\u001b[0m 19ms/step - accuracy: 0.8527 - loss: 0.2832 - val_accuracy: 0.8639 - val_loss: 0.2716\n",
            "Epoch 145/200\n",
            "\u001b[1m90/90\u001b[0m \u001b[32m━━━━━━━━━━━━━━━━━━━━\u001b[0m\u001b[37m\u001b[0m \u001b[1m3s\u001b[0m 20ms/step - accuracy: 0.8541 - loss: 0.2710 - val_accuracy: 0.8556 - val_loss: 0.2739\n",
            "Epoch 146/200\n",
            "\u001b[1m90/90\u001b[0m \u001b[32m━━━━━━━━━━━━━━━━━━━━\u001b[0m\u001b[37m\u001b[0m \u001b[1m2s\u001b[0m 18ms/step - accuracy: 0.8485 - loss: 0.2707 - val_accuracy: 0.8583 - val_loss: 0.2664\n",
            "Epoch 147/200\n",
            "\u001b[1m90/90\u001b[0m \u001b[32m━━━━━━━━━━━━━━━━━━━━\u001b[0m\u001b[37m\u001b[0m \u001b[1m2s\u001b[0m 18ms/step - accuracy: 0.8666 - loss: 0.2588 - val_accuracy: 0.8514 - val_loss: 0.2685\n",
            "Epoch 148/200\n",
            "\u001b[1m90/90\u001b[0m \u001b[32m━━━━━━━━━━━━━━━━━━━━\u001b[0m\u001b[37m\u001b[0m \u001b[1m2s\u001b[0m 20ms/step - accuracy: 0.8599 - loss: 0.2652 - val_accuracy: 0.8569 - val_loss: 0.2681\n",
            "Epoch 149/200\n",
            "\u001b[1m90/90\u001b[0m \u001b[32m━━━━━━━━━━━━━━━━━━━━\u001b[0m\u001b[37m\u001b[0m \u001b[1m3s\u001b[0m 20ms/step - accuracy: 0.8638 - loss: 0.2684 - val_accuracy: 0.8514 - val_loss: 0.2757\n",
            "Epoch 150/200\n",
            "\u001b[1m90/90\u001b[0m \u001b[32m━━━━━━━━━━━━━━━━━━━━\u001b[0m\u001b[37m\u001b[0m \u001b[1m2s\u001b[0m 18ms/step - accuracy: 0.8479 - loss: 0.2822 - val_accuracy: 0.8597 - val_loss: 0.2674\n",
            "Epoch 151/200\n",
            "\u001b[1m90/90\u001b[0m \u001b[32m━━━━━━━━━━━━━━━━━━━━\u001b[0m\u001b[37m\u001b[0m \u001b[1m2s\u001b[0m 18ms/step - accuracy: 0.8634 - loss: 0.2479 - val_accuracy: 0.8611 - val_loss: 0.2679\n",
            "Epoch 152/200\n",
            "\u001b[1m90/90\u001b[0m \u001b[32m━━━━━━━━━━━━━━━━━━━━\u001b[0m\u001b[37m\u001b[0m \u001b[1m2s\u001b[0m 20ms/step - accuracy: 0.8604 - loss: 0.2599 - val_accuracy: 0.8611 - val_loss: 0.2651\n",
            "Epoch 153/200\n",
            "\u001b[1m90/90\u001b[0m \u001b[32m━━━━━━━━━━━━━━━━━━━━\u001b[0m\u001b[37m\u001b[0m \u001b[1m2s\u001b[0m 18ms/step - accuracy: 0.8429 - loss: 0.2850 - val_accuracy: 0.8639 - val_loss: 0.2694\n",
            "Epoch 154/200\n",
            "\u001b[1m90/90\u001b[0m \u001b[32m━━━━━━━━━━━━━━━━━━━━\u001b[0m\u001b[37m\u001b[0m \u001b[1m2s\u001b[0m 18ms/step - accuracy: 0.8653 - loss: 0.2569 - val_accuracy: 0.8542 - val_loss: 0.2637\n",
            "Epoch 155/200\n",
            "\u001b[1m90/90\u001b[0m \u001b[32m━━━━━━━━━━━━━━━━━━━━\u001b[0m\u001b[37m\u001b[0m \u001b[1m3s\u001b[0m 21ms/step - accuracy: 0.8441 - loss: 0.2815 - val_accuracy: 0.8472 - val_loss: 0.2780\n",
            "Epoch 156/200\n",
            "\u001b[1m90/90\u001b[0m \u001b[32m━━━━━━━━━━━━━━━━━━━━\u001b[0m\u001b[37m\u001b[0m \u001b[1m2s\u001b[0m 19ms/step - accuracy: 0.8478 - loss: 0.2829 - val_accuracy: 0.8625 - val_loss: 0.2722\n",
            "Epoch 157/200\n",
            "\u001b[1m90/90\u001b[0m \u001b[32m━━━━━━━━━━━━━━━━━━━━\u001b[0m\u001b[37m\u001b[0m \u001b[1m2s\u001b[0m 18ms/step - accuracy: 0.8626 - loss: 0.2633 - val_accuracy: 0.8569 - val_loss: 0.2796\n",
            "Epoch 158/200\n",
            "\u001b[1m90/90\u001b[0m \u001b[32m━━━━━━━━━━━━━━━━━━━━\u001b[0m\u001b[37m\u001b[0m \u001b[1m2s\u001b[0m 18ms/step - accuracy: 0.8734 - loss: 0.2657 - val_accuracy: 0.8542 - val_loss: 0.2654\n",
            "Epoch 159/200\n",
            "\u001b[1m90/90\u001b[0m \u001b[32m━━━━━━━━━━━━━━━━━━━━\u001b[0m\u001b[37m\u001b[0m \u001b[1m2s\u001b[0m 18ms/step - accuracy: 0.8475 - loss: 0.2755 - val_accuracy: 0.8542 - val_loss: 0.2763\n",
            "Epoch 160/200\n",
            "\u001b[1m90/90\u001b[0m \u001b[32m━━━━━━━━━━━━━━━━━━━━\u001b[0m\u001b[37m\u001b[0m \u001b[1m3s\u001b[0m 19ms/step - accuracy: 0.8505 - loss: 0.2727 - val_accuracy: 0.8528 - val_loss: 0.2686\n",
            "Epoch 161/200\n",
            "\u001b[1m90/90\u001b[0m \u001b[32m━━━━━━━━━━━━━━━━━━━━\u001b[0m\u001b[37m\u001b[0m \u001b[1m3s\u001b[0m 21ms/step - accuracy: 0.8573 - loss: 0.2747 - val_accuracy: 0.8542 - val_loss: 0.2755\n",
            "Epoch 162/200\n",
            "\u001b[1m90/90\u001b[0m \u001b[32m━━━━━━━━━━━━━━━━━━━━\u001b[0m\u001b[37m\u001b[0m \u001b[1m2s\u001b[0m 19ms/step - accuracy: 0.8458 - loss: 0.2730 - val_accuracy: 0.8625 - val_loss: 0.2771\n",
            "Epoch 163/200\n",
            "\u001b[1m90/90\u001b[0m \u001b[32m━━━━━━━━━━━━━━━━━━━━\u001b[0m\u001b[37m\u001b[0m \u001b[1m2s\u001b[0m 18ms/step - accuracy: 0.8515 - loss: 0.2754 - val_accuracy: 0.8542 - val_loss: 0.2672\n",
            "Epoch 164/200\n",
            "\u001b[1m90/90\u001b[0m \u001b[32m━━━━━━━━━━━━━━━━━━━━\u001b[0m\u001b[37m\u001b[0m \u001b[1m3s\u001b[0m 20ms/step - accuracy: 0.8627 - loss: 0.2745 - val_accuracy: 0.8667 - val_loss: 0.2612\n",
            "Epoch 165/200\n",
            "\u001b[1m90/90\u001b[0m \u001b[32m━━━━━━━━━━━━━━━━━━━━\u001b[0m\u001b[37m\u001b[0m \u001b[1m2s\u001b[0m 18ms/step - accuracy: 0.8475 - loss: 0.2710 - val_accuracy: 0.8694 - val_loss: 0.2576\n",
            "Epoch 166/200\n",
            "\u001b[1m90/90\u001b[0m \u001b[32m━━━━━━━━━━━━━━━━━━━━\u001b[0m\u001b[37m\u001b[0m \u001b[1m2s\u001b[0m 18ms/step - accuracy: 0.8496 - loss: 0.2687 - val_accuracy: 0.8583 - val_loss: 0.2713\n",
            "Epoch 167/200\n",
            "\u001b[1m90/90\u001b[0m \u001b[32m━━━━━━━━━━━━━━━━━━━━\u001b[0m\u001b[37m\u001b[0m \u001b[1m2s\u001b[0m 20ms/step - accuracy: 0.8633 - loss: 0.2515 - val_accuracy: 0.8556 - val_loss: 0.2727\n",
            "Epoch 168/200\n",
            "\u001b[1m90/90\u001b[0m \u001b[32m━━━━━━━━━━━━━━━━━━━━\u001b[0m\u001b[37m\u001b[0m \u001b[1m2s\u001b[0m 21ms/step - accuracy: 0.8559 - loss: 0.2721 - val_accuracy: 0.8639 - val_loss: 0.2684\n",
            "Epoch 169/200\n",
            "\u001b[1m90/90\u001b[0m \u001b[32m━━━━━━━━━━━━━━━━━━━━\u001b[0m\u001b[37m\u001b[0m \u001b[1m2s\u001b[0m 18ms/step - accuracy: 0.8489 - loss: 0.2667 - val_accuracy: 0.8514 - val_loss: 0.2659\n",
            "Epoch 170/200\n",
            "\u001b[1m90/90\u001b[0m \u001b[32m━━━━━━━━━━━━━━━━━━━━\u001b[0m\u001b[37m\u001b[0m \u001b[1m3s\u001b[0m 18ms/step - accuracy: 0.8510 - loss: 0.2665 - val_accuracy: 0.8611 - val_loss: 0.2599\n",
            "Epoch 171/200\n",
            "\u001b[1m90/90\u001b[0m \u001b[32m━━━━━━━━━━━━━━━━━━━━\u001b[0m\u001b[37m\u001b[0m \u001b[1m3s\u001b[0m 18ms/step - accuracy: 0.8574 - loss: 0.2695 - val_accuracy: 0.8611 - val_loss: 0.2621\n",
            "Epoch 172/200\n",
            "\u001b[1m90/90\u001b[0m \u001b[32m━━━━━━━━━━━━━━━━━━━━\u001b[0m\u001b[37m\u001b[0m \u001b[1m2s\u001b[0m 20ms/step - accuracy: 0.8558 - loss: 0.2713 - val_accuracy: 0.8500 - val_loss: 0.2755\n",
            "Epoch 173/200\n",
            "\u001b[1m90/90\u001b[0m \u001b[32m━━━━━━━━━━━━━━━━━━━━\u001b[0m\u001b[37m\u001b[0m \u001b[1m3s\u001b[0m 20ms/step - accuracy: 0.8471 - loss: 0.2754 - val_accuracy: 0.8597 - val_loss: 0.2682\n",
            "Epoch 174/200\n",
            "\u001b[1m90/90\u001b[0m \u001b[32m━━━━━━━━━━━━━━━━━━━━\u001b[0m\u001b[37m\u001b[0m \u001b[1m2s\u001b[0m 21ms/step - accuracy: 0.8538 - loss: 0.2690 - val_accuracy: 0.8583 - val_loss: 0.2660\n",
            "Epoch 175/200\n",
            "\u001b[1m90/90\u001b[0m \u001b[32m━━━━━━━━━━━━━━━━━━━━\u001b[0m\u001b[37m\u001b[0m \u001b[1m2s\u001b[0m 18ms/step - accuracy: 0.8546 - loss: 0.2694 - val_accuracy: 0.8611 - val_loss: 0.2623\n",
            "Epoch 176/200\n",
            "\u001b[1m90/90\u001b[0m \u001b[32m━━━━━━━━━━━━━━━━━━━━\u001b[0m\u001b[37m\u001b[0m \u001b[1m3s\u001b[0m 18ms/step - accuracy: 0.8432 - loss: 0.2733 - val_accuracy: 0.8542 - val_loss: 0.2584\n",
            "Epoch 177/200\n",
            "\u001b[1m90/90\u001b[0m \u001b[32m━━━━━━━━━━━━━━━━━━━━\u001b[0m\u001b[37m\u001b[0m \u001b[1m3s\u001b[0m 18ms/step - accuracy: 0.8477 - loss: 0.2653 - val_accuracy: 0.8681 - val_loss: 0.2567\n",
            "Epoch 178/200\n",
            "\u001b[1m90/90\u001b[0m \u001b[32m━━━━━━━━━━━━━━━━━━━━\u001b[0m\u001b[37m\u001b[0m \u001b[1m3s\u001b[0m 18ms/step - accuracy: 0.8532 - loss: 0.2625 - val_accuracy: 0.8611 - val_loss: 0.2619\n",
            "Epoch 179/200\n",
            "\u001b[1m90/90\u001b[0m \u001b[32m━━━━━━━━━━━━━━━━━━━━\u001b[0m\u001b[37m\u001b[0m \u001b[1m2s\u001b[0m 18ms/step - accuracy: 0.8451 - loss: 0.2673 - val_accuracy: 0.8611 - val_loss: 0.2678\n",
            "Epoch 180/200\n",
            "\u001b[1m90/90\u001b[0m \u001b[32m━━━━━━━━━━━━━━━━━━━━\u001b[0m\u001b[37m\u001b[0m \u001b[1m2s\u001b[0m 21ms/step - accuracy: 0.8577 - loss: 0.2572 - val_accuracy: 0.8583 - val_loss: 0.2659\n",
            "Epoch 181/200\n",
            "\u001b[1m90/90\u001b[0m \u001b[32m━━━━━━━━━━━━━━━━━━━━\u001b[0m\u001b[37m\u001b[0m \u001b[1m2s\u001b[0m 19ms/step - accuracy: 0.8433 - loss: 0.2828 - val_accuracy: 0.8611 - val_loss: 0.2677\n",
            "Epoch 182/200\n",
            "\u001b[1m90/90\u001b[0m \u001b[32m━━━━━━━━━━━━━━━━━━━━\u001b[0m\u001b[37m\u001b[0m \u001b[1m2s\u001b[0m 20ms/step - accuracy: 0.8526 - loss: 0.2717 - val_accuracy: 0.8611 - val_loss: 0.2666\n",
            "Epoch 183/200\n",
            "\u001b[1m90/90\u001b[0m \u001b[32m━━━━━━━━━━━━━━━━━━━━\u001b[0m\u001b[37m\u001b[0m \u001b[1m2s\u001b[0m 18ms/step - accuracy: 0.8527 - loss: 0.2655 - val_accuracy: 0.8556 - val_loss: 0.2613\n",
            "Epoch 184/200\n",
            "\u001b[1m90/90\u001b[0m \u001b[32m━━━━━━━━━━━━━━━━━━━━\u001b[0m\u001b[37m\u001b[0m \u001b[1m3s\u001b[0m 18ms/step - accuracy: 0.8569 - loss: 0.2662 - val_accuracy: 0.8583 - val_loss: 0.2706\n",
            "Epoch 185/200\n",
            "\u001b[1m90/90\u001b[0m \u001b[32m━━━━━━━━━━━━━━━━━━━━\u001b[0m\u001b[37m\u001b[0m \u001b[1m3s\u001b[0m 18ms/step - accuracy: 0.8502 - loss: 0.2760 - val_accuracy: 0.8583 - val_loss: 0.2721\n",
            "Epoch 186/200\n",
            "\u001b[1m90/90\u001b[0m \u001b[32m━━━━━━━━━━━━━━━━━━━━\u001b[0m\u001b[37m\u001b[0m \u001b[1m2s\u001b[0m 19ms/step - accuracy: 0.8553 - loss: 0.2583 - val_accuracy: 0.8625 - val_loss: 0.2608\n",
            "Epoch 187/200\n",
            "\u001b[1m90/90\u001b[0m \u001b[32m━━━━━━━━━━━━━━━━━━━━\u001b[0m\u001b[37m\u001b[0m \u001b[1m2s\u001b[0m 21ms/step - accuracy: 0.8560 - loss: 0.2684 - val_accuracy: 0.8597 - val_loss: 0.2649\n",
            "Epoch 188/200\n",
            "\u001b[1m90/90\u001b[0m \u001b[32m━━━━━━━━━━━━━━━━━━━━\u001b[0m\u001b[37m\u001b[0m \u001b[1m2s\u001b[0m 20ms/step - accuracy: 0.8583 - loss: 0.2634 - val_accuracy: 0.8611 - val_loss: 0.2626\n",
            "Epoch 189/200\n",
            "\u001b[1m90/90\u001b[0m \u001b[32m━━━━━━━━━━━━━━━━━━━━\u001b[0m\u001b[37m\u001b[0m \u001b[1m2s\u001b[0m 18ms/step - accuracy: 0.8605 - loss: 0.2574 - val_accuracy: 0.8556 - val_loss: 0.2608\n",
            "Epoch 190/200\n",
            "\u001b[1m90/90\u001b[0m \u001b[32m━━━━━━━━━━━━━━━━━━━━\u001b[0m\u001b[37m\u001b[0m \u001b[1m2s\u001b[0m 18ms/step - accuracy: 0.8543 - loss: 0.2647 - val_accuracy: 0.8611 - val_loss: 0.2658\n",
            "Epoch 191/200\n",
            "\u001b[1m90/90\u001b[0m \u001b[32m━━━━━━━━━━━━━━━━━━━━\u001b[0m\u001b[37m\u001b[0m \u001b[1m2s\u001b[0m 18ms/step - accuracy: 0.8699 - loss: 0.2487 - val_accuracy: 0.8514 - val_loss: 0.2695\n",
            "Epoch 192/200\n",
            "\u001b[1m90/90\u001b[0m \u001b[32m━━━━━━━━━━━━━━━━━━━━\u001b[0m\u001b[37m\u001b[0m \u001b[1m2s\u001b[0m 18ms/step - accuracy: 0.8398 - loss: 0.2652 - val_accuracy: 0.8583 - val_loss: 0.2631\n",
            "Epoch 193/200\n",
            "\u001b[1m90/90\u001b[0m \u001b[32m━━━━━━━━━━━━━━━━━━━━\u001b[0m\u001b[37m\u001b[0m \u001b[1m3s\u001b[0m 19ms/step - accuracy: 0.8599 - loss: 0.2549 - val_accuracy: 0.8639 - val_loss: 0.2609\n",
            "Epoch 194/200\n",
            "\u001b[1m90/90\u001b[0m \u001b[32m━━━━━━━━━━━━━━━━━━━━\u001b[0m\u001b[37m\u001b[0m \u001b[1m2s\u001b[0m 21ms/step - accuracy: 0.8581 - loss: 0.2616 - val_accuracy: 0.8528 - val_loss: 0.2663\n",
            "Epoch 195/200\n",
            "\u001b[1m90/90\u001b[0m \u001b[32m━━━━━━━━━━━━━━━━━━━━\u001b[0m\u001b[37m\u001b[0m \u001b[1m2s\u001b[0m 18ms/step - accuracy: 0.8530 - loss: 0.2667 - val_accuracy: 0.8653 - val_loss: 0.2617\n",
            "Epoch 196/200\n",
            "\u001b[1m90/90\u001b[0m \u001b[32m━━━━━━━━━━━━━━━━━━━━\u001b[0m\u001b[37m\u001b[0m \u001b[1m3s\u001b[0m 18ms/step - accuracy: 0.8505 - loss: 0.2627 - val_accuracy: 0.8597 - val_loss: 0.2637\n",
            "Epoch 197/200\n",
            "\u001b[1m90/90\u001b[0m \u001b[32m━━━━━━━━━━━━━━━━━━━━\u001b[0m\u001b[37m\u001b[0m \u001b[1m2s\u001b[0m 20ms/step - accuracy: 0.8541 - loss: 0.2672 - val_accuracy: 0.8694 - val_loss: 0.2599\n",
            "Epoch 198/200\n",
            "\u001b[1m90/90\u001b[0m \u001b[32m━━━━━━━━━━━━━━━━━━━━\u001b[0m\u001b[37m\u001b[0m \u001b[1m2s\u001b[0m 18ms/step - accuracy: 0.8738 - loss: 0.2521 - val_accuracy: 0.8625 - val_loss: 0.2590\n",
            "Epoch 199/200\n",
            "\u001b[1m90/90\u001b[0m \u001b[32m━━━━━━━━━━━━━━━━━━━━\u001b[0m\u001b[37m\u001b[0m \u001b[1m2s\u001b[0m 18ms/step - accuracy: 0.8481 - loss: 0.2775 - val_accuracy: 0.8597 - val_loss: 0.2588\n",
            "Epoch 200/200\n",
            "\u001b[1m90/90\u001b[0m \u001b[32m━━━━━━━━━━━━━━━━━━━━\u001b[0m\u001b[37m\u001b[0m \u001b[1m3s\u001b[0m 21ms/step - accuracy: 0.8651 - loss: 0.2582 - val_accuracy: 0.8514 - val_loss: 0.2669\n"
          ]
        }
      ]
    },
    {
      "cell_type": "code",
      "source": [
        "def predict_video(video_path):\n",
        "    frames = extract_frames_from_video(video_path)\n",
        "    frames = np.array(frames).astype('float32') / 255.0\n",
        "    preds = model.predict(frames)\n",
        "    avg_pred = preds.mean()\n",
        "    print(f\"Average prediction score: {avg_pred:.4f}\")\n",
        "    if avg_pred >= 0.5:\n",
        "        print(\"🔍 Video predicted as FAKE\")\n",
        "    else:\n",
        "        print(\"🔍 Video predicted as REAL\")\n"
      ],
      "metadata": {
        "id": "VoXLUJ3bsdXi"
      },
      "execution_count": 32,
      "outputs": []
    },
    {
      "cell_type": "code",
      "source": [
        "model.save(\"deepfake_detection_model.h5\")\n",
        "print(\"✅ Model saved to deepfake_detection_model.h5\")\n"
      ],
      "metadata": {
        "colab": {
          "base_uri": "https://localhost:8080/"
        },
        "id": "IvNzf4pDvEBA",
        "outputId": "811da18a-22d5-473b-b385-d85a42bf37da"
      },
      "execution_count": 41,
      "outputs": [
        {
          "output_type": "stream",
          "name": "stderr",
          "text": [
            "WARNING:absl:You are saving your model as an HDF5 file via `model.save()` or `keras.saving.save_model(model)`. This file format is considered legacy. We recommend using instead the native Keras format, e.g. `model.save('my_model.keras')` or `keras.saving.save_model(model, 'my_model.keras')`. \n"
          ]
        },
        {
          "output_type": "stream",
          "name": "stdout",
          "text": [
            "✅ Model saved to deepfake_detection_model.h5\n"
          ]
        }
      ]
    },
    {
      "cell_type": "code",
      "source": [
        "from tensorflow.keras.models import load_model\n",
        "\n",
        "model = load_model(\"deepfake_detection_model.h5\")\n",
        "print(\"✅ Model loaded from disk\")\n"
      ],
      "metadata": {
        "colab": {
          "base_uri": "https://localhost:8080/"
        },
        "id": "aVTKFxxhvnZC",
        "outputId": "233219b9-2755-4cdc-e6ea-4e5e920b9634"
      },
      "execution_count": 34,
      "outputs": [
        {
          "output_type": "stream",
          "name": "stderr",
          "text": [
            "WARNING:absl:Compiled the loaded model, but the compiled metrics have yet to be built. `model.compile_metrics` will be empty until you train or evaluate the model.\n"
          ]
        },
        {
          "output_type": "stream",
          "name": "stdout",
          "text": [
            "✅ Model loaded from disk\n"
          ]
        }
      ]
    },
    {
      "cell_type": "code",
      "source": [
        "from sklearn.metrics import classification_report\n",
        "\n",
        "# Predict on test frames\n",
        "y_pred_probs = model.predict(X_val)\n",
        "y_pred = (y_pred_probs > 0.5).astype(int)\n",
        "\n",
        "print(classification_report(y_val, y_pred))\n"
      ],
      "metadata": {
        "colab": {
          "base_uri": "https://localhost:8080/"
        },
        "id": "Iv3ZSB3Av-4C",
        "outputId": "ed6b606d-b477-4814-9ed9-64904b47fbb0"
      },
      "execution_count": 35,
      "outputs": [
        {
          "output_type": "stream",
          "name": "stdout",
          "text": [
            "\u001b[1m23/23\u001b[0m \u001b[32m━━━━━━━━━━━━━━━━━━━━\u001b[0m\u001b[37m\u001b[0m \u001b[1m1s\u001b[0m 18ms/step\n",
            "              precision    recall  f1-score   support\n",
            "\n",
            "         0.0       0.91      0.78      0.84       360\n",
            "         1.0       0.81      0.92      0.86       360\n",
            "\n",
            "    accuracy                           0.85       720\n",
            "   macro avg       0.86      0.85      0.85       720\n",
            "weighted avg       0.86      0.85      0.85       720\n",
            "\n"
          ]
        }
      ]
    },
    {
      "cell_type": "code",
      "source": [
        "def predict_video(video_path):\n",
        "    frames = extract_frames_from_video(video_path)\n",
        "    frames = np.array(frames).astype('float32') / 255.0\n",
        "    preds = model.predict(frames)\n",
        "    avg_pred = preds.mean()\n",
        "    label = \"FAKE\" if avg_pred >= 0.5 else \"REAL\"\n",
        "    print(f\"Video prediction: {label} (score: {avg_pred:.4f})\")\n"
      ],
      "metadata": {
        "id": "BKf8SLjjxL1p"
      },
      "execution_count": 36,
      "outputs": []
    },
    {
      "cell_type": "code",
      "source": [
        "predict_video('/content/drive/MyDrive/deepfake_dataset/test/real/01__podium_speech_happy.mp4')"
      ],
      "metadata": {
        "colab": {
          "base_uri": "https://localhost:8080/"
        },
        "id": "vEx4rVgCxUiL",
        "outputId": "7b3280ed-e54a-4a72-db56-19e30a15bcd6"
      },
      "execution_count": 39,
      "outputs": [
        {
          "output_type": "stream",
          "name": "stdout",
          "text": [
            "\u001b[1m1/1\u001b[0m \u001b[32m━━━━━━━━━━━━━━━━━━━━\u001b[0m\u001b[37m\u001b[0m \u001b[1m0s\u001b[0m 62ms/step\n",
            "Video prediction: FAKE (score: 0.9579)\n"
          ]
        }
      ]
    }
  ]
}